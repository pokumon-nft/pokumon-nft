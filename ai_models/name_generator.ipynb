{
  "cells": [
    {
      "cell_type": "code",
      "execution_count": 1,
      "metadata": {
        "colab": {
          "base_uri": "https://localhost:8080/"
        },
        "id": "TW68g0HyZeCH",
        "outputId": "0cd51301-452a-4ff6-fe29-dd54d9ea2d1b"
      },
      "outputs": [
        {
          "name": "stdout",
          "output_type": "stream",
          "text": [
            "--2022-01-16 09:37:31--  https://github.com/PokeMate/name-generator/raw/master/api/static/model.h5\n",
            "Resolving github.com (github.com)... 52.69.186.44\n",
            "Connecting to github.com (github.com)|52.69.186.44|:443... connected.\n",
            "HTTP request sent, awaiting response... 302 Found\n",
            "Location: https://raw.githubusercontent.com/PokeMate/name-generator/master/api/static/model.h5 [following]\n",
            "--2022-01-16 09:37:32--  https://raw.githubusercontent.com/PokeMate/name-generator/master/api/static/model.h5\n",
            "Resolving raw.githubusercontent.com (raw.githubusercontent.com)... 185.199.111.133, 185.199.108.133, 185.199.110.133, ...\n",
            "Connecting to raw.githubusercontent.com (raw.githubusercontent.com)|185.199.111.133|:443... connected.\n",
            "HTTP request sent, awaiting response... 200 OK\n",
            "Length: 221016 (216K) [application/octet-stream]\n",
            "Saving to: ‘model.h5’\n",
            "\n",
            "model.h5            100%[===================>] 215.84K  --.-KB/s    in 0.03s   \n",
            "\n",
            "2022-01-16 09:37:32 (6.82 MB/s) - ‘model.h5’ saved [221016/221016]\n",
            "\n",
            "--2022-01-16 09:37:32--  https://raw.githubusercontent.com/PokeMate/name-generator/master/api/static/names.txt\n",
            "Resolving raw.githubusercontent.com (raw.githubusercontent.com)... 185.199.108.133, 185.199.111.133, 185.199.110.133, ...\n",
            "Connecting to raw.githubusercontent.com (raw.githubusercontent.com)|185.199.108.133|:443... connected.\n",
            "HTTP request sent, awaiting response... 200 OK\n",
            "Length: 6735 (6.6K) [text/plain]\n",
            "Saving to: ‘names.txt’\n",
            "\n",
            "names.txt           100%[===================>]   6.58K  --.-KB/s    in 0s      \n",
            "\n",
            "2022-01-16 09:37:33 (53.1 MB/s) - ‘names.txt’ saved [6735/6735]\n",
            "\n"
          ]
        }
      ],
      "source": [
        "!wget https://github.com/PokeMate/name-generator/raw/master/api/static/model.h5 -O model.h5\n",
        "!wget https://raw.githubusercontent.com/PokeMate/name-generator/master/api/static/names.txt -O names.txt"
      ]
    },
    {
      "cell_type": "code",
      "execution_count": 2,
      "metadata": {
        "colab": {
          "base_uri": "https://localhost:8080/"
        },
        "id": "Usd9NNb9az4L",
        "outputId": "573afcba-b427-4a86-f363-efd8d390caf2"
      },
      "outputs": [
        {
          "name": "stdout",
          "output_type": "stream",
          "text": [
            "TensorFlow 1.x selected.\n"
          ]
        }
      ],
      "source": [
        "%tensorflow_version 1.x"
      ]
    },
    {
      "cell_type": "code",
      "execution_count": 3,
      "metadata": {
        "colab": {
          "base_uri": "https://localhost:8080/"
        },
        "id": "dvr9FHmga31V",
        "outputId": "b3008ba3-8dcf-456a-9d4d-26f6a823d6e6"
      },
      "outputs": [
        {
          "name": "stdout",
          "output_type": "stream",
          "text": [
            "1.15.2\n"
          ]
        }
      ],
      "source": [
        "import tensorflow as tf\n",
        "print(tf.__version__)"
      ]
    },
    {
      "cell_type": "code",
      "execution_count": 1,
      "metadata": {
        "colab": {
          "base_uri": "https://localhost:8080/"
        },
        "id": "ebrJRQu3bkCN",
        "outputId": "f9d3e5ca-9a1b-4ba0-cb69-225b6843c6c0"
      },
      "outputs": [
        {
          "name": "stdout",
          "output_type": "stream",
          "text": [
            "Name: h5py\n",
            "Version: 2.10.0\n",
            "Summary: Read and write HDF5 files from Python\n",
            "Home-page: http://www.h5py.org\n",
            "Author: Andrew Collette\n",
            "Author-email: andrew.collette@gmail.com\n",
            "License: BSD\n",
            "Location: /usr/local/lib/python3.7/dist-packages\n",
            "Requires: six, numpy\n",
            "Required-by: tensorflow, keras-vis\n"
          ]
        }
      ],
      "source": [
        "!pip show h5py"
      ]
    },
    {
      "cell_type": "code",
      "execution_count": 5,
      "metadata": {
        "colab": {
          "base_uri": "https://localhost:8080/",
          "height": 438
        },
        "id": "d8oGqqRObo2g",
        "outputId": "5ce5f239-03cc-4d0b-c0bd-a5104d26c3e3"
      },
      "outputs": [
        {
          "name": "stdout",
          "output_type": "stream",
          "text": [
            "Found existing installation: h5py 3.1.0\n",
            "Uninstalling h5py-3.1.0:\n",
            "  Would remove:\n",
            "    /usr/local/lib/python3.7/dist-packages/h5py-3.1.0.dist-info/*\n",
            "    /usr/local/lib/python3.7/dist-packages/h5py.libs/libaec-9c9e97eb.so.0.0.10\n",
            "    /usr/local/lib/python3.7/dist-packages/h5py.libs/libhdf5-00e8fae8.so.200.0.0\n",
            "    /usr/local/lib/python3.7/dist-packages/h5py.libs/libhdf5_hl-383c339f.so.200.0.0\n",
            "    /usr/local/lib/python3.7/dist-packages/h5py.libs/libsz-e7aa62f5.so.2.0.1\n",
            "    /usr/local/lib/python3.7/dist-packages/h5py.libs/libz-eb09ad1d.so.1.2.3\n",
            "    /usr/local/lib/python3.7/dist-packages/h5py/*\n",
            "Proceed (y/n)? y\n",
            "  Successfully uninstalled h5py-3.1.0\n",
            "Collecting h5py==2.10.0\n",
            "  Downloading h5py-2.10.0-cp37-cp37m-manylinux1_x86_64.whl (2.9 MB)\n",
            "\u001b[K     |████████████████████████████████| 2.9 MB 4.2 MB/s \n",
            "\u001b[?25hRequirement already satisfied: numpy>=1.7 in /usr/local/lib/python3.7/dist-packages (from h5py==2.10.0) (1.19.5)\n",
            "Requirement already satisfied: six in /usr/local/lib/python3.7/dist-packages (from h5py==2.10.0) (1.15.0)\n",
            "Installing collected packages: h5py\n",
            "Successfully installed h5py-2.10.0\n"
          ]
        },
        {
          "data": {
            "application/vnd.colab-display-data+json": {
              "pip_warning": {
                "packages": [
                  "h5py"
                ]
              }
            }
          },
          "metadata": {},
          "output_type": "display_data"
        }
      ],
      "source": [
        "!pip uninstall h5py\n",
        "!pip install h5py==2.10.0"
      ]
    },
    {
      "cell_type": "code",
      "execution_count": 4,
      "metadata": {
        "colab": {
          "base_uri": "https://localhost:8080/"
        },
        "id": "1AQO_Wg4Yazk",
        "outputId": "cb8354f4-9b9b-4fc6-d1f2-21563abb16e1"
      },
      "outputs": [
        {
          "name": "stderr",
          "output_type": "stream",
          "text": [
            "Using TensorFlow backend.\n"
          ]
        }
      ],
      "source": [
        "import pandas as pd\n",
        "import numpy as np\n",
        "import keras\n",
        "import time\n",
        "from keras.models import Sequential\n",
        "from keras.layers import Dense\n",
        "from keras.layers import LSTM\n",
        "# from tensorflow.keras.optimizers import RMSprop # tf v2\n",
        "from keras.optimizers import RMSprop  # tf v1\n",
        "import tensorflow as tf\n",
        "import random\n",
        "import os\n",
        "from tensorflow.keras.models import load_model"
      ]
    },
    {
      "cell_type": "code",
      "execution_count": 5,
      "metadata": {
        "id": "tHCqUDxFYpcE"
      },
      "outputs": [],
      "source": [
        "# To hide warnings\n",
        "os.environ[\"TF_CPP_MIN_LOG_LEVEL\"] = \"2\""
      ]
    },
    {
      "cell_type": "code",
      "execution_count": 6,
      "metadata": {
        "id": "43dVyT_lYzvL"
      },
      "outputs": [],
      "source": [
        "config = tf.compat.v1.ConfigProto(\n",
        "    device_count={\"GPU\": 1}, intra_op_parallelism_threads=1, allow_soft_placement=True\n",
        ")\n",
        "config.gpu_options.allow_growth = True\n",
        "config.gpu_options.per_process_gpu_memory_fraction = 0.6\n",
        "session = tf.Session(config=config) # tf v1\n",
        "keras.backend.set_session(session) # tf v1"
      ]
    },
    {
      "cell_type": "code",
      "execution_count": 7,
      "metadata": {
        "id": "tiNniEAZZx24"
      },
      "outputs": [],
      "source": [
        "def load_names(input_path):\n",
        "    names = []\n",
        "    f = open(input_path)\n",
        "    for name in f:\n",
        "        name = name.rstrip()\n",
        "        names.append(name)\n",
        "    f.close()\n",
        "\n",
        "    return names"
      ]
    },
    {
      "cell_type": "code",
      "execution_count": 8,
      "metadata": {
        "id": "6NtokeRtY1xL"
      },
      "outputs": [],
      "source": [
        "class NameGenerator:\n",
        "    def __init__(self, model_path, input_names_path):\n",
        "        # Load names from the file\n",
        "        self.input_names = load_names(input_names_path)\n",
        "\n",
        "        # Make it them to a long string\n",
        "        self.concat_names = \"\\n\".join(self.input_names).lower()\n",
        "\n",
        "        # Find all unique characters by using set()\n",
        "        self.chars = sorted(list(set(self.concat_names)))\n",
        "\n",
        "        # Build translation dictionaries, 'a' -> 0, 0 -> 'a'\n",
        "        self.char2idx = dict((c, i) for i, c in enumerate(self.chars))\n",
        "        self.idx2char = dict((i, c) for i, c in enumerate(self.chars))\n",
        "\n",
        "        # Count the number of unique characters\n",
        "        self.num_chars = len(self.chars)\n",
        "\n",
        "        # Use longest name length as our sequence window\n",
        "        self.max_sequence_length = max([len(name) for name in self.input_names])\n",
        "\n",
        "        self.sequence = self.concat_names[-(self.max_sequence_length - 1) :] + \"\\n\"\n",
        "\n",
        "        # Load the model\n",
        "        self.model = load_model(model_path)\n",
        "        self.model._make_predict_function()\n",
        "\n",
        "    def generate_names(self, gen_amount):\n",
        "        new_names = []\n",
        "\n",
        "        # if gen_amount < 1 or gen_amount > 10:\n",
        "        #     raise (Exception)\n",
        "\n",
        "        while len(new_names) < gen_amount:\n",
        "\n",
        "            # Vectorize sequence for prediction\n",
        "            x = np.zeros((1, self.max_sequence_length, self.num_chars))\n",
        "            for i, char in enumerate(self.sequence):\n",
        "                x[0, i, self.char2idx[char]] = 1\n",
        "\n",
        "            # Sample next char from predicted probabilities\n",
        "            try:\n",
        "                with session.as_default():\n",
        "                    with session.graph.as_default():\n",
        "                        probs = self.model.predict(x, verbose=0)[0]\n",
        "                        probs /= probs.sum()\n",
        "                        next_idx = np.random.choice(len(probs), p=probs)\n",
        "                        next_char = self.idx2char[next_idx]\n",
        "                        self.sequence = self.sequence[1:] + next_char\n",
        "\n",
        "                        # New line means we have a new name\n",
        "                        if next_char == \"\\n\":\n",
        "\n",
        "                            gen_name = [name for name in self.sequence.split(\"\\n\")][1]\n",
        "\n",
        "                            # Never start name with two identical chars, could probably also\n",
        "                            if len(gen_name) > 2 and gen_name[0] == gen_name[1]:\n",
        "                                gen_name = gen_name[1:]\n",
        "\n",
        "                            # Discard all names that are too short\n",
        "                            if len(gen_name) > 2:\n",
        "\n",
        "                                # Only allow new and unique names\n",
        "                                if gen_name not in self.input_names + new_names:\n",
        "                                    new_names.append(gen_name.capitalize())\n",
        "            except:\n",
        "                print(\"Name Generation Error\")\n",
        "\n",
        "        return new_names"
      ]
    },
    {
      "cell_type": "code",
      "execution_count": 9,
      "metadata": {
        "colab": {
          "base_uri": "https://localhost:8080/"
        },
        "id": "MPf2gsTgZKqS",
        "outputId": "14041ef0-f64f-4a01-c709-0ea8542d7a75"
      },
      "outputs": [
        {
          "name": "stdout",
          "output_type": "stream",
          "text": [
            "WARNING:tensorflow:From /tensorflow-1.15.2/python3.7/tensorflow_core/python/ops/resource_variable_ops.py:1630: calling BaseResourceVariable.__init__ (from tensorflow.python.ops.resource_variable_ops) with constraint is deprecated and will be removed in a future version.\n",
            "Instructions for updating:\n",
            "If using Keras pass *_constraint arguments to layers.\n"
          ]
        }
      ],
      "source": [
        "model_path = os.path.realpath(\"./model.h5\")\n",
        "input_names_path = os.path.realpath(\"./names.txt\")\n",
        "generator = NameGenerator(model_path, input_names_path)"
      ]
    },
    {
      "cell_type": "code",
      "execution_count": 17,
      "metadata": {
        "id": "menBUTI4ZUF_"
      },
      "outputs": [],
      "source": [
        "amount = 10000\n",
        "names = generator.generate_names(amount)"
      ]
    },
    {
      "cell_type": "code",
      "execution_count": 18,
      "metadata": {
        "id": "V1LnaICZb2rG"
      },
      "outputs": [],
      "source": [
        "with open('aimon_names.txt', 'w') as f:\n",
        "    f.writelines('\\n'.join(names))"
      ]
    },
    {
      "cell_type": "code",
      "execution_count": null,
      "metadata": {
        "id": "Fqaed15vRYe2"
      },
      "outputs": [],
      "source": []
    }
  ],
  "metadata": {
    "accelerator": "GPU",
    "colab": {
      "collapsed_sections": [],
      "name": "Pokemon Name Generator.ipynb",
      "provenance": []
    },
    "kernelspec": {
      "display_name": "Python 3",
      "name": "python3"
    },
    "language_info": {
      "name": "python"
    }
  },
  "nbformat": 4,
  "nbformat_minor": 0
}
